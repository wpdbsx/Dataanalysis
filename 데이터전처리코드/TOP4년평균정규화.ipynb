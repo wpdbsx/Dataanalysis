{
 "cells": [
  {
   "cell_type": "code",
   "execution_count": 1,
   "metadata": {},
   "outputs": [
    {
     "name": "stdout",
     "output_type": "stream",
     "text": [
      "Windows\n"
     ]
    }
   ],
   "source": [
    "# python <-> maridb (계열 mysql)\n",
    "import pymysql\n",
    "# 데이터베이스의 대량작업, 객체 연결등등 고차원 작업 진행 지원 모듈\n",
    "from sqlalchemy import create_engine\n",
    "# Dataframe을 sql에 전송하는 기능\n",
    "import pandas.io.sql as pSql\n",
    "import pandas as pd\n",
    "import numpy as np\n",
    "import matplotlib.pyplot as plt\n",
    "import matplotlib \n",
    "# 차트그릴때 필요한거\n",
    "import seaborn as sns \n",
    "# 한글 처리\n",
    "%matplotlib inline\n",
    "from korean_font import initKoreaFont\n",
    "import matplotlib.pyplot as plt\n",
    "initKoreaFont()"
   ]
  },
  {
   "cell_type": "code",
   "execution_count": 59,
   "metadata": {},
   "outputs": [],
   "source": [
    "path = f'D:/데이터/TOP유동인구/서울 관악구법정동.csv' \n",
    "관악구법정동=pd.read_csv(path,encoding='cp949')\n",
    "관악구법정동.set_index('Unnamed: 0',inplace=True)\n",
    "관악구법정동.index.name=''\n",
    "\n",
    "path = f'D:/데이터/TOP유동인구/서울 마포구법정동.csv' \n",
    "마포구법정동=pd.read_csv(path,encoding='cp949')\n",
    "마포구법정동.set_index('Unnamed: 0',inplace=True)\n",
    "마포구법정동.index.name=''\n",
    "path = f'D:/데이터/TOP유동인구/서울 서초구법정동.csv' \n",
    "서초구법정동=pd.read_csv(path,encoding='cp949')\n",
    "서초구법정동.set_index('Unnamed: 0',inplace=True)\n",
    "서초구법정동.index.name=''\n",
    "\n",
    "path = f'D:/데이터/TOP유동인구/서울 용산구법정동.csv' \n",
    "용산구법정동=pd.read_csv(path,encoding='cp949')\n",
    "용산구법정동.set_index('Unnamed: 0',inplace=True)\n",
    "용산구법정동.index.name=''"
   ]
  },
  {
   "cell_type": "code",
   "execution_count": 60,
   "metadata": {},
   "outputs": [
    {
     "data": {
      "text/plain": [
       "Index(['관악구 봉천동', '관악구 남현동', '관악구 신림동'], dtype='object')"
      ]
     },
     "execution_count": 60,
     "metadata": {},
     "output_type": "execute_result"
    }
   ],
   "source": [
    "year = ['2017','2018','2019','2020']\n",
    "구모음집= ['관악구법정동','마포구법정동','서초구법정동','용산구법정동']\n",
    "관악구법정동.columns"
   ]
  },
  {
   "cell_type": "code",
   "execution_count": 61,
   "metadata": {},
   "outputs": [
    {
     "name": "stdout",
     "output_type": "stream",
     "text": [
      "관악구법정동\n",
      "관악구 봉천동\n",
      "관악구 남현동\n",
      "관악구 신림동\n",
      "마포구법정동\n",
      "창전동\n",
      "마포동\n",
      "공덕동\n",
      "연남동\n",
      "상암동\n",
      "현석동\n",
      "중동\n",
      "신수동\n",
      "아현동\n",
      "구수동\n",
      "토정동\n",
      "도화동\n",
      "서교동\n",
      "동교동\n",
      "신정동\n",
      "신공덕동\n",
      "망원동\n",
      "상수동\n",
      "노고산동\n",
      "하중동\n",
      "당인동\n",
      "합정동\n",
      "대흥동\n",
      "성산동\n",
      "염리동\n",
      "용강동\n",
      "서초구법정동\n",
      "양재동\n",
      "염곡동\n",
      "잠원동\n",
      "서초동\n",
      "반포동\n",
      "신원동\n",
      "원지동\n",
      "내곡동\n",
      "우면동\n",
      "방배동\n",
      "용산구법정동\n",
      "산천동\n",
      "원효로4가\n",
      "효창동\n",
      "용산동5가\n",
      "용문동\n",
      "문배동\n",
      "서빙고동\n",
      "동빙고동\n",
      "청파동2가\n",
      "이태원동\n",
      "용산동4가\n",
      "신계동\n",
      "용산동2가\n",
      "동자동\n",
      "청암동\n",
      "청파동1가\n",
      "한남동\n",
      "용산동1가\n",
      "갈월동\n",
      "용산동6가\n",
      "한강로3가\n",
      "용산동3가\n",
      "남영동\n",
      "원효로3가\n",
      "주성동\n",
      "한강로2가\n",
      "원효로1가\n",
      "도원동\n",
      "신창동\n",
      "후암동\n",
      "한강로1가\n",
      "원효로2가\n",
      "보광동\n",
      "서계동\n",
      "청파동3가\n",
      "이촌동\n"
     ]
    }
   ],
   "source": [
    "# 관악구법정동[관악구법정동['봉천동'].map(lambda x : 219499.647238 in x)]\n",
    "\n",
    "# 관악구법정동[관악구법정동['봉천동'].map(lambda x : 'a' in x)]\n",
    "\n",
    "for name in 구모음집 :\n",
    "    print(name)\n",
    "    globals()[f'{name}list'] = []\n",
    "    for 동이름 in globals()[f'{name}'].columns :\n",
    "            globals()[f'{동이름}']=[]\n",
    "            print(동이름)\n",
    "            globals()[f'{name}list'].append(globals()[f'{동이름}'])\n",
    "            for 년도 in year :\n",
    "                globals()[f'{동이름}'].append(np.mean(globals()[f'{name}'][globals()[f'{name}'].index.map(lambda x : 년도 in str(x))][동이름]))\n",
    "            \n",
    "    "
   ]
  },
  {
   "cell_type": "code",
   "execution_count": 62,
   "metadata": {},
   "outputs": [
    {
     "data": {
      "text/plain": [
       "Index(['창전동', '마포동', '공덕동', '연남동', '상암동', '현석동', '중동', '신수동', '아현동', '구수동',\n",
       "       '토정동', '도화동', '서교동', '동교동', '신정동', '신공덕동', '망원동', '상수동', '노고산동', '하중동',\n",
       "       '당인동', '합정동', '대흥동', '성산동', '염리동', '용강동'],\n",
       "      dtype='object')"
      ]
     },
     "execution_count": 62,
     "metadata": {},
     "output_type": "execute_result"
    }
   ],
   "source": [
    "마포구법정동.columns"
   ]
  },
  {
   "cell_type": "code",
   "execution_count": 63,
   "metadata": {},
   "outputs": [],
   "source": [
    "for name in 구모음집 :\n",
    "    globals()[f'{name}년평균'] = pd.DataFrame(globals()[f'{name}list'],columns=year,index=globals()[f'{name}'].columns).T"
   ]
  },
  {
   "cell_type": "code",
   "execution_count": 13,
   "metadata": {},
   "outputs": [
    {
     "data": {
      "text/html": [
       "<div>\n",
       "<style scoped>\n",
       "    .dataframe tbody tr th:only-of-type {\n",
       "        vertical-align: middle;\n",
       "    }\n",
       "\n",
       "    .dataframe tbody tr th {\n",
       "        vertical-align: top;\n",
       "    }\n",
       "\n",
       "    .dataframe thead th {\n",
       "        text-align: right;\n",
       "    }\n",
       "</style>\n",
       "<table border=\"1\" class=\"dataframe\">\n",
       "  <thead>\n",
       "    <tr style=\"text-align: right;\">\n",
       "      <th></th>\n",
       "      <th>봉천동</th>\n",
       "      <th>남현동</th>\n",
       "      <th>신림동</th>\n",
       "    </tr>\n",
       "  </thead>\n",
       "  <tbody>\n",
       "    <tr>\n",
       "      <th>2017</th>\n",
       "      <td>216252.875517</td>\n",
       "      <td>25569.178154</td>\n",
       "      <td>214617.324050</td>\n",
       "    </tr>\n",
       "    <tr>\n",
       "      <th>2018</th>\n",
       "      <td>217333.259286</td>\n",
       "      <td>24749.049919</td>\n",
       "      <td>215563.554632</td>\n",
       "    </tr>\n",
       "    <tr>\n",
       "      <th>2019</th>\n",
       "      <td>211301.020321</td>\n",
       "      <td>24540.238532</td>\n",
       "      <td>206045.338105</td>\n",
       "    </tr>\n",
       "    <tr>\n",
       "      <th>2020</th>\n",
       "      <td>219018.397538</td>\n",
       "      <td>25075.047532</td>\n",
       "      <td>203319.327822</td>\n",
       "    </tr>\n",
       "  </tbody>\n",
       "</table>\n",
       "</div>"
      ],
      "text/plain": [
       "                봉천동           남현동            신림동\n",
       "2017  216252.875517  25569.178154  214617.324050\n",
       "2018  217333.259286  24749.049919  215563.554632\n",
       "2019  211301.020321  24540.238532  206045.338105\n",
       "2020  219018.397538  25075.047532  203319.327822"
      ]
     },
     "execution_count": 13,
     "metadata": {},
     "output_type": "execute_result"
    }
   ],
   "source": [
    "# 관악구법정동년평균\n",
    "# 마포구법정동년평균\n",
    "# 서초구법정동년평균\n",
    "관악구법정동년평균\n",
    "# 구모음집"
   ]
  },
  {
   "cell_type": "code",
   "execution_count": 64,
   "metadata": {},
   "outputs": [],
   "source": [
    "\n",
    "# 파일 내보내기 \n",
    "for name in 구모음집 :  \n",
    "    globals()[f'{name}년평균'].to_csv(f'D:/데이터/TOP유동인구/{name}년도별.csv',encoding='cp949',sep=',')\n"
   ]
  },
  {
   "cell_type": "code",
   "execution_count": 56,
   "metadata": {},
   "outputs": [],
   "source": [
    "최대값= []\n",
    "최대값.append(관악구법정동년평균.iloc[3:].max().max())\n",
    "최대값.append(마포구법정동년평균.iloc[3:].max().max())\n",
    "최대값.append(서초구법정동년평균.iloc[3:].max().max())\n",
    "최대값.append(용산구법정동년평균.iloc[3:].max().max())"
   ]
  },
  {
   "cell_type": "code",
   "execution_count": 57,
   "metadata": {},
   "outputs": [],
   "source": [
    "관악구정규화=관악구법정동년평균/max(최대값)\n",
    "마포구정규화=마포구법정동년평균/max(최대값)\n",
    "서초구정규화=서초구법정동년평균/max(최대값)\n",
    "용산구정규화=용산구법정동년평균/max(최대값)"
   ]
  },
  {
   "cell_type": "code",
   "execution_count": 65,
   "metadata": {},
   "outputs": [],
   "source": [
    "# 파일 내보내기 \n",
    "#2020년도 max값 기준으로 정규화\n",
    "관악구정규화.to_csv(f'D:/데이터/자치구정규화/관악구정규화2020기준.csv',encoding='cp949',sep=',')\n",
    "마포구정규화.to_csv(f'D:/데이터/자치구정규화/마포구정규화2020기준.csv',encoding='cp949',sep=',')\n",
    "서초구정규화.to_csv(f'D:/데이터/자치구정규화/서초구정규화2020기준.csv',encoding='cp949',sep=',')\n",
    "용산구정규화.to_csv(f'D:/데이터/자치구정규화/용산구정규화2020기준.csv',encoding='cp949',sep=',')"
   ]
  }
 ],
 "metadata": {
  "kernelspec": {
   "display_name": "Python 3",
   "language": "python",
   "name": "python3"
  },
  "language_info": {
   "codemirror_mode": {
    "name": "ipython",
    "version": 3
   },
   "file_extension": ".py",
   "mimetype": "text/x-python",
   "name": "python",
   "nbconvert_exporter": "python",
   "pygments_lexer": "ipython3",
   "version": "3.7.5"
  }
 },
 "nbformat": 4,
 "nbformat_minor": 4
}
